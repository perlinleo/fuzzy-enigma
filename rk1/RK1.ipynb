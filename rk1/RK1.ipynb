{
 "cells": [
  {
   "cell_type": "markdown",
   "metadata": {},
   "source": [
    "# РК ИУ5"
   ]
  },
  {
   "cell_type": "markdown",
   "metadata": {},
   "source": [
    "### Импорт библиотек"
   ]
  },
  {
   "cell_type": "code",
   "execution_count": 1,
   "metadata": {},
   "outputs": [],
   "source": [
    "import numpy as np\n",
    "import pandas as pd\n",
    "import seaborn as sns\n",
    "import matplotlib.pyplot as plt\n",
    "from pandas.plotting import scatter_matrix\n",
    "from sklearn.impute import SimpleImputer\n",
    "from sklearn.impute import MissingIndicator\n",
    "import warnings\n",
    "warnings.filterwarnings('ignore')\n",
    "sns.set(style=\"ticks\")\n",
    "%matplotlib inline"
   ]
  },
  {
   "cell_type": "code",
   "execution_count": 2,
   "metadata": {},
   "outputs": [],
   "source": [
    "data = pd.read_csv('data.csv')"
   ]
  },
  {
   "cell_type": "code",
   "execution_count": 3,
   "metadata": {},
   "outputs": [
    {
     "data": {
      "text/html": [
       "<div>\n",
       "<style scoped>\n",
       "    .dataframe tbody tr th:only-of-type {\n",
       "        vertical-align: middle;\n",
       "    }\n",
       "\n",
       "    .dataframe tbody tr th {\n",
       "        vertical-align: top;\n",
       "    }\n",
       "\n",
       "    .dataframe thead th {\n",
       "        text-align: right;\n",
       "    }\n",
       "</style>\n",
       "<table border=\"1\" class=\"dataframe\">\n",
       "  <thead>\n",
       "    <tr style=\"text-align: right;\">\n",
       "      <th></th>\n",
       "      <th>Unnamed: 0</th>\n",
       "      <th>ID</th>\n",
       "      <th>Name</th>\n",
       "      <th>Age</th>\n",
       "      <th>Photo</th>\n",
       "      <th>Nationality</th>\n",
       "      <th>Flag</th>\n",
       "      <th>Overall</th>\n",
       "      <th>Potential</th>\n",
       "      <th>Club</th>\n",
       "      <th>...</th>\n",
       "      <th>Composure</th>\n",
       "      <th>Marking</th>\n",
       "      <th>StandingTackle</th>\n",
       "      <th>SlidingTackle</th>\n",
       "      <th>GKDiving</th>\n",
       "      <th>GKHandling</th>\n",
       "      <th>GKKicking</th>\n",
       "      <th>GKPositioning</th>\n",
       "      <th>GKReflexes</th>\n",
       "      <th>Release Clause</th>\n",
       "    </tr>\n",
       "  </thead>\n",
       "  <tbody>\n",
       "    <tr>\n",
       "      <th>0</th>\n",
       "      <td>0</td>\n",
       "      <td>158023</td>\n",
       "      <td>L. Messi</td>\n",
       "      <td>31</td>\n",
       "      <td>https://cdn.sofifa.org/players/4/19/158023.png</td>\n",
       "      <td>Argentina</td>\n",
       "      <td>https://cdn.sofifa.org/flags/52.png</td>\n",
       "      <td>94</td>\n",
       "      <td>94</td>\n",
       "      <td>FC Barcelona</td>\n",
       "      <td>...</td>\n",
       "      <td>96.0</td>\n",
       "      <td>33.0</td>\n",
       "      <td>28.0</td>\n",
       "      <td>26.0</td>\n",
       "      <td>6.0</td>\n",
       "      <td>11.0</td>\n",
       "      <td>15.0</td>\n",
       "      <td>14.0</td>\n",
       "      <td>8.0</td>\n",
       "      <td>€226.5M</td>\n",
       "    </tr>\n",
       "    <tr>\n",
       "      <th>1</th>\n",
       "      <td>1</td>\n",
       "      <td>20801</td>\n",
       "      <td>Cristiano Ronaldo</td>\n",
       "      <td>33</td>\n",
       "      <td>https://cdn.sofifa.org/players/4/19/20801.png</td>\n",
       "      <td>Portugal</td>\n",
       "      <td>https://cdn.sofifa.org/flags/38.png</td>\n",
       "      <td>94</td>\n",
       "      <td>94</td>\n",
       "      <td>Juventus</td>\n",
       "      <td>...</td>\n",
       "      <td>95.0</td>\n",
       "      <td>28.0</td>\n",
       "      <td>31.0</td>\n",
       "      <td>23.0</td>\n",
       "      <td>7.0</td>\n",
       "      <td>11.0</td>\n",
       "      <td>15.0</td>\n",
       "      <td>14.0</td>\n",
       "      <td>11.0</td>\n",
       "      <td>€127.1M</td>\n",
       "    </tr>\n",
       "    <tr>\n",
       "      <th>2</th>\n",
       "      <td>2</td>\n",
       "      <td>190871</td>\n",
       "      <td>Neymar Jr</td>\n",
       "      <td>26</td>\n",
       "      <td>https://cdn.sofifa.org/players/4/19/190871.png</td>\n",
       "      <td>Brazil</td>\n",
       "      <td>https://cdn.sofifa.org/flags/54.png</td>\n",
       "      <td>92</td>\n",
       "      <td>93</td>\n",
       "      <td>Paris Saint-Germain</td>\n",
       "      <td>...</td>\n",
       "      <td>94.0</td>\n",
       "      <td>27.0</td>\n",
       "      <td>24.0</td>\n",
       "      <td>33.0</td>\n",
       "      <td>9.0</td>\n",
       "      <td>9.0</td>\n",
       "      <td>15.0</td>\n",
       "      <td>15.0</td>\n",
       "      <td>11.0</td>\n",
       "      <td>€228.1M</td>\n",
       "    </tr>\n",
       "    <tr>\n",
       "      <th>3</th>\n",
       "      <td>3</td>\n",
       "      <td>193080</td>\n",
       "      <td>De Gea</td>\n",
       "      <td>27</td>\n",
       "      <td>https://cdn.sofifa.org/players/4/19/193080.png</td>\n",
       "      <td>Spain</td>\n",
       "      <td>https://cdn.sofifa.org/flags/45.png</td>\n",
       "      <td>91</td>\n",
       "      <td>93</td>\n",
       "      <td>Manchester United</td>\n",
       "      <td>...</td>\n",
       "      <td>68.0</td>\n",
       "      <td>15.0</td>\n",
       "      <td>21.0</td>\n",
       "      <td>13.0</td>\n",
       "      <td>90.0</td>\n",
       "      <td>85.0</td>\n",
       "      <td>87.0</td>\n",
       "      <td>88.0</td>\n",
       "      <td>94.0</td>\n",
       "      <td>€138.6M</td>\n",
       "    </tr>\n",
       "    <tr>\n",
       "      <th>4</th>\n",
       "      <td>4</td>\n",
       "      <td>192985</td>\n",
       "      <td>K. De Bruyne</td>\n",
       "      <td>27</td>\n",
       "      <td>https://cdn.sofifa.org/players/4/19/192985.png</td>\n",
       "      <td>Belgium</td>\n",
       "      <td>https://cdn.sofifa.org/flags/7.png</td>\n",
       "      <td>91</td>\n",
       "      <td>92</td>\n",
       "      <td>Manchester City</td>\n",
       "      <td>...</td>\n",
       "      <td>88.0</td>\n",
       "      <td>68.0</td>\n",
       "      <td>58.0</td>\n",
       "      <td>51.0</td>\n",
       "      <td>15.0</td>\n",
       "      <td>13.0</td>\n",
       "      <td>5.0</td>\n",
       "      <td>10.0</td>\n",
       "      <td>13.0</td>\n",
       "      <td>€196.4M</td>\n",
       "    </tr>\n",
       "  </tbody>\n",
       "</table>\n",
       "<p>5 rows × 89 columns</p>\n",
       "</div>"
      ],
      "text/plain": [
       "   Unnamed: 0      ID               Name  Age  \\\n",
       "0           0  158023           L. Messi   31   \n",
       "1           1   20801  Cristiano Ronaldo   33   \n",
       "2           2  190871          Neymar Jr   26   \n",
       "3           3  193080             De Gea   27   \n",
       "4           4  192985       K. De Bruyne   27   \n",
       "\n",
       "                                            Photo Nationality  \\\n",
       "0  https://cdn.sofifa.org/players/4/19/158023.png   Argentina   \n",
       "1   https://cdn.sofifa.org/players/4/19/20801.png    Portugal   \n",
       "2  https://cdn.sofifa.org/players/4/19/190871.png      Brazil   \n",
       "3  https://cdn.sofifa.org/players/4/19/193080.png       Spain   \n",
       "4  https://cdn.sofifa.org/players/4/19/192985.png     Belgium   \n",
       "\n",
       "                                  Flag  Overall  Potential  \\\n",
       "0  https://cdn.sofifa.org/flags/52.png       94         94   \n",
       "1  https://cdn.sofifa.org/flags/38.png       94         94   \n",
       "2  https://cdn.sofifa.org/flags/54.png       92         93   \n",
       "3  https://cdn.sofifa.org/flags/45.png       91         93   \n",
       "4   https://cdn.sofifa.org/flags/7.png       91         92   \n",
       "\n",
       "                  Club  ... Composure Marking StandingTackle  SlidingTackle  \\\n",
       "0         FC Barcelona  ...      96.0    33.0           28.0           26.0   \n",
       "1             Juventus  ...      95.0    28.0           31.0           23.0   \n",
       "2  Paris Saint-Germain  ...      94.0    27.0           24.0           33.0   \n",
       "3    Manchester United  ...      68.0    15.0           21.0           13.0   \n",
       "4      Manchester City  ...      88.0    68.0           58.0           51.0   \n",
       "\n",
       "  GKDiving  GKHandling  GKKicking  GKPositioning GKReflexes Release Clause  \n",
       "0      6.0        11.0       15.0           14.0        8.0        €226.5M  \n",
       "1      7.0        11.0       15.0           14.0       11.0        €127.1M  \n",
       "2      9.0         9.0       15.0           15.0       11.0        €228.1M  \n",
       "3     90.0        85.0       87.0           88.0       94.0        €138.6M  \n",
       "4     15.0        13.0        5.0           10.0       13.0        €196.4M  \n",
       "\n",
       "[5 rows x 89 columns]"
      ]
     },
     "execution_count": 3,
     "metadata": {},
     "output_type": "execute_result"
    }
   ],
   "source": [
    "data.head()"
   ]
  },
  {
   "cell_type": "code",
   "execution_count": 4,
   "metadata": {},
   "outputs": [
    {
     "data": {
      "text/plain": [
       "Unnamed: 0          int64\n",
       "ID                  int64\n",
       "Name               object\n",
       "Age                 int64\n",
       "Photo              object\n",
       "                   ...   \n",
       "GKHandling        float64\n",
       "GKKicking         float64\n",
       "GKPositioning     float64\n",
       "GKReflexes        float64\n",
       "Release Clause     object\n",
       "Length: 89, dtype: object"
      ]
     },
     "execution_count": 4,
     "metadata": {},
     "output_type": "execute_result"
    }
   ],
   "source": [
    "data.dtypes"
   ]
  },
  {
   "cell_type": "code",
   "execution_count": 5,
   "metadata": {},
   "outputs": [
    {
     "data": {
      "text/plain": [
       "Unnamed: 0           0\n",
       "ID                   0\n",
       "Name                 0\n",
       "Age                  0\n",
       "Photo                0\n",
       "                  ... \n",
       "GKHandling          48\n",
       "GKKicking           48\n",
       "GKPositioning       48\n",
       "GKReflexes          48\n",
       "Release Clause    1564\n",
       "Length: 89, dtype: int64"
      ]
     },
     "execution_count": 5,
     "metadata": {},
     "output_type": "execute_result"
    }
   ],
   "source": [
    "data.isnull().sum()\n",
    "# проверим есть ли пропущенные значения"
   ]
  },
  {
   "cell_type": "code",
   "execution_count": 6,
   "metadata": {},
   "outputs": [
    {
     "name": "stdout",
     "output_type": "stream",
     "text": [
      "<class 'pandas.core.frame.DataFrame'>\n",
      "RangeIndex: 18207 entries, 0 to 18206\n",
      "Data columns (total 89 columns):\n",
      " #   Column                    Non-Null Count  Dtype  \n",
      "---  ------                    --------------  -----  \n",
      " 0   Unnamed: 0                18207 non-null  int64  \n",
      " 1   ID                        18207 non-null  int64  \n",
      " 2   Name                      18207 non-null  object \n",
      " 3   Age                       18207 non-null  int64  \n",
      " 4   Photo                     18207 non-null  object \n",
      " 5   Nationality               18207 non-null  object \n",
      " 6   Flag                      18207 non-null  object \n",
      " 7   Overall                   18207 non-null  int64  \n",
      " 8   Potential                 18207 non-null  int64  \n",
      " 9   Club                      17966 non-null  object \n",
      " 10  Club Logo                 18207 non-null  object \n",
      " 11  Value                     18207 non-null  object \n",
      " 12  Wage                      18207 non-null  object \n",
      " 13  Special                   18207 non-null  int64  \n",
      " 14  Preferred Foot            18159 non-null  object \n",
      " 15  International Reputation  18159 non-null  float64\n",
      " 16  Weak Foot                 18159 non-null  float64\n",
      " 17  Skill Moves               18159 non-null  float64\n",
      " 18  Work Rate                 18159 non-null  object \n",
      " 19  Body Type                 18159 non-null  object \n",
      " 20  Real Face                 18159 non-null  object \n",
      " 21  Position                  18147 non-null  object \n",
      " 22  Jersey Number             18147 non-null  float64\n",
      " 23  Joined                    16654 non-null  object \n",
      " 24  Loaned From               1264 non-null   object \n",
      " 25  Contract Valid Until      17918 non-null  object \n",
      " 26  Height                    18159 non-null  object \n",
      " 27  Weight                    18159 non-null  object \n",
      " 28  LS                        16122 non-null  object \n",
      " 29  ST                        16122 non-null  object \n",
      " 30  RS                        16122 non-null  object \n",
      " 31  LW                        16122 non-null  object \n",
      " 32  LF                        16122 non-null  object \n",
      " 33  CF                        16122 non-null  object \n",
      " 34  RF                        16122 non-null  object \n",
      " 35  RW                        16122 non-null  object \n",
      " 36  LAM                       16122 non-null  object \n",
      " 37  CAM                       16122 non-null  object \n",
      " 38  RAM                       16122 non-null  object \n",
      " 39  LM                        16122 non-null  object \n",
      " 40  LCM                       16122 non-null  object \n",
      " 41  CM                        16122 non-null  object \n",
      " 42  RCM                       16122 non-null  object \n",
      " 43  RM                        16122 non-null  object \n",
      " 44  LWB                       16122 non-null  object \n",
      " 45  LDM                       16122 non-null  object \n",
      " 46  CDM                       16122 non-null  object \n",
      " 47  RDM                       16122 non-null  object \n",
      " 48  RWB                       16122 non-null  object \n",
      " 49  LB                        16122 non-null  object \n",
      " 50  LCB                       16122 non-null  object \n",
      " 51  CB                        16122 non-null  object \n",
      " 52  RCB                       16122 non-null  object \n",
      " 53  RB                        16122 non-null  object \n",
      " 54  Crossing                  18159 non-null  float64\n",
      " 55  Finishing                 18159 non-null  float64\n",
      " 56  HeadingAccuracy           18159 non-null  float64\n",
      " 57  ShortPassing              18159 non-null  float64\n",
      " 58  Volleys                   18159 non-null  float64\n",
      " 59  Dribbling                 18159 non-null  float64\n",
      " 60  Curve                     18159 non-null  float64\n",
      " 61  FKAccuracy                18159 non-null  float64\n",
      " 62  LongPassing               18159 non-null  float64\n",
      " 63  BallControl               18159 non-null  float64\n",
      " 64  Acceleration              18159 non-null  float64\n",
      " 65  SprintSpeed               18159 non-null  float64\n",
      " 66  Agility                   18159 non-null  float64\n",
      " 67  Reactions                 18159 non-null  float64\n",
      " 68  Balance                   18159 non-null  float64\n",
      " 69  ShotPower                 18159 non-null  float64\n",
      " 70  Jumping                   18159 non-null  float64\n",
      " 71  Stamina                   18159 non-null  float64\n",
      " 72  Strength                  18159 non-null  float64\n",
      " 73  LongShots                 18159 non-null  float64\n",
      " 74  Aggression                18159 non-null  float64\n",
      " 75  Interceptions             18159 non-null  float64\n",
      " 76  Positioning               18159 non-null  float64\n",
      " 77  Vision                    18159 non-null  float64\n",
      " 78  Penalties                 18159 non-null  float64\n",
      " 79  Composure                 18159 non-null  float64\n",
      " 80  Marking                   18159 non-null  float64\n",
      " 81  StandingTackle            18159 non-null  float64\n",
      " 82  SlidingTackle             18159 non-null  float64\n",
      " 83  GKDiving                  18159 non-null  float64\n",
      " 84  GKHandling                18159 non-null  float64\n",
      " 85  GKKicking                 18159 non-null  float64\n",
      " 86  GKPositioning             18159 non-null  float64\n",
      " 87  GKReflexes                18159 non-null  float64\n",
      " 88  Release Clause            16643 non-null  object \n",
      "dtypes: float64(38), int64(6), object(45)\n",
      "memory usage: 12.4+ MB\n"
     ]
    }
   ],
   "source": [
    "data.info()"
   ]
  },
  {
   "cell_type": "code",
   "execution_count": 7,
   "metadata": {},
   "outputs": [],
   "source": [
    "from sklearn.preprocessing import MinMaxScaler, StandardScaler, Normalizer"
   ]
  },
  {
   "cell_type": "code",
   "execution_count": 8,
   "metadata": {},
   "outputs": [],
   "source": [
    "sc1 = MinMaxScaler()\n",
    "sc1_data = sc1.fit_transform(data[['Crossing']])"
   ]
  },
  {
   "cell_type": "code",
   "execution_count": 9,
   "metadata": {},
   "outputs": [
    {
     "data": {
      "image/png": "[encoded data removed]",
      "text/plain": [
       "<Figure size 432x288 with 1 Axes>"
      ]
     },
     "metadata": {
      "needs_background": "light"
     },
     "output_type": "display_data"
    }
   ],
   "source": [
    "plt.hist(data['Crossing'], 50)\n",
    "plt.show()"
   ]
  },
  {
   "cell_type": "code",
   "execution_count": 10,
   "metadata": {},
   "outputs": [
    {
     "data": {
      "image/png": "[encoded data removed]",
      "text/plain": [
       "<Figure size 432x288 with 1 Axes>"
      ]
     },
     "metadata": {
      "needs_background": "light"
     },
     "output_type": "display_data"
    }
   ],
   "source": [
    "plt.hist(sc1_data, 50)\n",
    "plt.show()"
   ]
  },
  {
   "cell_type": "markdown",
   "metadata": {},
   "source": [
    "### Масштабирование данных на основе Z-оценки - StandardScaler¶"
   ]
  },
  {
   "cell_type": "code",
   "execution_count": 11,
   "metadata": {},
   "outputs": [],
   "source": [
    "sc2 = StandardScaler()\n",
    "sc2_data = sc2.fit_transform(data[['Crossing']])"
   ]
  },
  {
   "cell_type": "code",
   "execution_count": 12,
   "metadata": {},
   "outputs": [
    {
     "data": {
      "image/png": "[encoded data removed]",
      "text/plain": [
       "<Figure size 432x288 with 1 Axes>"
      ]
     },
     "metadata": {
      "needs_background": "light"
     },
     "output_type": "display_data"
    }
   ],
   "source": [
    "plt.hist(sc2_data, 50)\n",
    "plt.show()"
   ]
  },
  {
   "cell_type": "code",
   "execution_count": 13,
   "metadata": {},
   "outputs": [
    {
     "data": {
      "text/html": [
       "<div>\n",
       "<style scoped>\n",
       "    .dataframe tbody tr th:only-of-type {\n",
       "        vertical-align: middle;\n",
       "    }\n",
       "\n",
       "    .dataframe tbody tr th {\n",
       "        vertical-align: top;\n",
       "    }\n",
       "\n",
       "    .dataframe thead th {\n",
       "        text-align: right;\n",
       "    }\n",
       "</style>\n",
       "<table border=\"1\" class=\"dataframe\">\n",
       "  <thead>\n",
       "    <tr style=\"text-align: right;\">\n",
       "      <th></th>\n",
       "      <th>Club</th>\n",
       "    </tr>\n",
       "  </thead>\n",
       "  <tbody>\n",
       "    <tr>\n",
       "      <th>0</th>\n",
       "      <td>FC Barcelona</td>\n",
       "    </tr>\n",
       "    <tr>\n",
       "      <th>1</th>\n",
       "      <td>Juventus</td>\n",
       "    </tr>\n",
       "    <tr>\n",
       "      <th>2</th>\n",
       "      <td>Paris Saint-Germain</td>\n",
       "    </tr>\n",
       "    <tr>\n",
       "      <th>3</th>\n",
       "      <td>Manchester United</td>\n",
       "    </tr>\n",
       "    <tr>\n",
       "      <th>4</th>\n",
       "      <td>Manchester City</td>\n",
       "    </tr>\n",
       "  </tbody>\n",
       "</table>\n",
       "</div>"
      ],
      "text/plain": [
       "                  Club\n",
       "0         FC Barcelona\n",
       "1             Juventus\n",
       "2  Paris Saint-Germain\n",
       "3    Manchester United\n",
       "4      Manchester City"
      ]
     },
     "execution_count": 13,
     "metadata": {},
     "output_type": "execute_result"
    }
   ],
   "source": [
    "cat_temp_data = data[['Club']]\n",
    "cat_temp_data.head()"
   ]
  },
  {
   "cell_type": "code",
   "execution_count": 14,
   "metadata": {},
   "outputs": [
    {
     "data": {
      "text/plain": [
       "array([['FC Barcelona'],\n",
       "       ['Juventus'],\n",
       "       ['Paris Saint-Germain'],\n",
       "       ...,\n",
       "       ['Cambridge United'],\n",
       "       ['Tranmere Rovers'],\n",
       "       ['Tranmere Rovers']], dtype=object)"
      ]
     },
     "execution_count": 14,
     "metadata": {},
     "output_type": "execute_result"
    }
   ],
   "source": [
    "# Импьютация наиболее частыми значениями\n",
    "imp2 = SimpleImputer(missing_values=np.nan, strategy='most_frequent')\n",
    "data_imp2 = imp2.fit_transform(cat_temp_data)\n",
    "data_imp2"
   ]
  },
  {
   "cell_type": "code",
   "execution_count": 15,
   "metadata": {},
   "outputs": [
    {
     "data": {
      "text/html": [
       "<div>\n",
       "<style scoped>\n",
       "    .dataframe tbody tr th:only-of-type {\n",
       "        vertical-align: middle;\n",
       "    }\n",
       "\n",
       "    .dataframe tbody tr th {\n",
       "        vertical-align: top;\n",
       "    }\n",
       "\n",
       "    .dataframe thead th {\n",
       "        text-align: right;\n",
       "    }\n",
       "</style>\n",
       "<table border=\"1\" class=\"dataframe\">\n",
       "  <thead>\n",
       "    <tr style=\"text-align: right;\">\n",
       "      <th></th>\n",
       "      <th>Club</th>\n",
       "    </tr>\n",
       "  </thead>\n",
       "  <tbody>\n",
       "    <tr>\n",
       "      <th>0</th>\n",
       "      <td>FC Barcelona</td>\n",
       "    </tr>\n",
       "    <tr>\n",
       "      <th>1</th>\n",
       "      <td>Juventus</td>\n",
       "    </tr>\n",
       "    <tr>\n",
       "      <th>2</th>\n",
       "      <td>Paris Saint-Germain</td>\n",
       "    </tr>\n",
       "    <tr>\n",
       "      <th>3</th>\n",
       "      <td>Manchester United</td>\n",
       "    </tr>\n",
       "    <tr>\n",
       "      <th>4</th>\n",
       "      <td>Manchester City</td>\n",
       "    </tr>\n",
       "    <tr>\n",
       "      <th>...</th>\n",
       "      <td>...</td>\n",
       "    </tr>\n",
       "    <tr>\n",
       "      <th>18202</th>\n",
       "      <td>Crewe Alexandra</td>\n",
       "    </tr>\n",
       "    <tr>\n",
       "      <th>18203</th>\n",
       "      <td>Trelleborgs FF</td>\n",
       "    </tr>\n",
       "    <tr>\n",
       "      <th>18204</th>\n",
       "      <td>Cambridge United</td>\n",
       "    </tr>\n",
       "    <tr>\n",
       "      <th>18205</th>\n",
       "      <td>Tranmere Rovers</td>\n",
       "    </tr>\n",
       "    <tr>\n",
       "      <th>18206</th>\n",
       "      <td>Tranmere Rovers</td>\n",
       "    </tr>\n",
       "  </tbody>\n",
       "</table>\n",
       "<p>18207 rows × 1 columns</p>\n",
       "</div>"
      ],
      "text/plain": [
       "                      Club\n",
       "0             FC Barcelona\n",
       "1                 Juventus\n",
       "2      Paris Saint-Germain\n",
       "3        Manchester United\n",
       "4          Manchester City\n",
       "...                    ...\n",
       "18202      Crewe Alexandra\n",
       "18203       Trelleborgs FF\n",
       "18204     Cambridge United\n",
       "18205      Tranmere Rovers\n",
       "18206      Tranmere Rovers\n",
       "\n",
       "[18207 rows x 1 columns]"
      ]
     },
     "execution_count": 15,
     "metadata": {},
     "output_type": "execute_result"
    }
   ],
   "source": [
    "cat_enc = pd.DataFrame({'Club':data_imp2.T[0]})\n",
    "cat_enc"
   ]
  },
  {
   "cell_type": "code",
   "execution_count": 16,
   "metadata": {},
   "outputs": [],
   "source": [
    "from sklearn.preprocessing import LabelEncoder, OneHotEncoder"
   ]
  },
  {
   "cell_type": "markdown",
   "metadata": {},
   "source": [
    "### Кодирование категорий целочисленными значениями - label encoding"
   ]
  },
  {
   "cell_type": "code",
   "execution_count": 17,
   "metadata": {},
   "outputs": [],
   "source": [
    "le = LabelEncoder()\n",
    "cat_enc_le = le.fit_transform(cat_enc['Club'])"
   ]
  },
  {
   "cell_type": "code",
   "execution_count": 18,
   "metadata": {},
   "outputs": [
    {
     "data": {
      "text/plain": [
       "array(['FC Barcelona', 'Juventus', 'Paris Saint-Germain',\n",
       "       'Manchester United', 'Manchester City', 'Chelsea', 'Real Madrid',\n",
       "       'Atlético Madrid', 'FC Bayern München', 'Tottenham Hotspur',\n",
       "       'Liverpool', 'Napoli', 'Arsenal', 'Milan', 'Inter', 'Lazio',\n",
       "       'Borussia Dortmund', 'Vissel Kobe', 'Olympique Lyonnais', 'Roma',\n",
       "       'Valencia CF', 'Guangzhou Evergrande Taobao FC', 'FC Porto',\n",
       "       'FC Schalke 04', 'Beşiktaş JK', 'LA Galaxy', 'Sporting CP',\n",
       "       'Real Betis', 'Olympique de Marseille', 'RC Celta',\n",
       "       'Bayer 04 Leverkusen', 'Real Sociedad', 'Villarreal CF',\n",
       "       'Sevilla FC', 'SL Benfica', 'AS Saint-Étienne', 'AS Monaco',\n",
       "       'Leicester City', 'Atalanta', 'Grêmio', 'Atlético Mineiro',\n",
       "       'RB Leipzig', 'Ajax', 'Dalian YiFang FC', 'Everton',\n",
       "       'West Ham United', '1. FC Köln', 'TSG 1899 Hoffenheim',\n",
       "       'Shanghai SIPG FC', 'OGC Nice', 'Al Nassr',\n",
       "       'Wolverhampton Wanderers', 'Borussia Mönchengladbach',\n",
       "       'Hertha BSC', 'SV Werder Bremen', 'Cruzeiro',\n",
       "       'Athletic Club de Bilbao', 'Torino', 'Medipol Başakşehir FK',\n",
       "       'Beijing Sinobo Guoan FC', 'Crystal Palace', 'PFC CSKA Moscow',\n",
       "       'VfL Wolfsburg', 'Shakhtar Donetsk', 'Toronto FC',\n",
       "       'Lokomotiv Moscow', 'Sassuolo', 'New York City FC', 'Fluminense',\n",
       "       'PSV', 'Levante UD', 'Fulham', 'Watford', 'Atlanta United',\n",
       "       'Montpellier HSC', 'Galatasaray SK', 'Fenerbahçe SK', 'SD Eibar',\n",
       "       'Los Angeles FC', 'Sampdoria', 'Al Hilal', 'VfB Stuttgart',\n",
       "       'SC Braga', 'River Plate', 'Deportivo Alavés',\n",
       "       'Eintracht Frankfurt', 'Girona FC', 'Guangzhou R&F; FC', 'Burnley',\n",
       "       'Stoke City', 'Southampton', 'Tianjin Quanjian FC', 'Getafe CF',\n",
       "       'Beijing Renhe FC', 'Montreal Impact', 'Chievo Verona', 'Genoa',\n",
       "       'Portland Timbers', 'Tigres U.A.N.L.', 'RCD Espanyol',\n",
       "       'Hebei China Fortune FC', 'Cagliari', 'Chicago Fire', 'DC United',\n",
       "       'Sagan Tosu', 'Dynamo Kyiv', 'Santos', 'Internacional',\n",
       "       'América FC (Minas Gerais)', 'Independiente', 'Boca Juniors',\n",
       "       'Cruz Azul', '1. FSV Mainz 05', 'Bournemouth', 'Spartak Moscow',\n",
       "       'Racing Club', 'FC Augsburg', 'Fiorentina', 'FC Nantes',\n",
       "       'Feyenoord', 'Club Brugge KV', 'Brighton & Hove Albion', 'Al Ahli',\n",
       "       'Jiangsu Suning FC', 'SC Freiburg', 'PAOK', 'Stade Rennais FC',\n",
       "       'Trabzonspor', 'SPAL', 'Portimonense SC', 'Olympiacos CFP',\n",
       "       'Club Atlético Huracán', 'Kasimpaşa SK', 'Newcastle United',\n",
       "       'Frosinone', 'Querétaro', 'KRC Genk', 'Hannover 96',\n",
       "       'Stade Malherbe Caen', 'Godoy Cruz', 'Toulouse Football Club',\n",
       "       'RSC Anderlecht', 'Huddersfield Town', 'CD Tondela',\n",
       "       'Seattle Sounders FC', 'Hamburger SV', 'FC Red Bull Salzburg',\n",
       "       'Rio Ave FC', 'FC Girondins de Bordeaux', 'Melbourne Victory',\n",
       "       'Parma', 'FC Basel 1893', 'Al Wehda', 'BSC Young Boys', 'KAA Gent',\n",
       "       'Al Ittihad', 'Standard de Liège', 'Shanghai Greenland Shenhua FC',\n",
       "       'Colo-Colo', 'Junior FC', 'West Bromwich Albion',\n",
       "       'RC Strasbourg Alsace', 'Göztepe SK', 'Deportivo Cali',\n",
       "       'Deportivo Toluca', 'Bologna', 'Nagoya Grampus', 'Amiens SC',\n",
       "       'Changchun Yatai FC', 'Club Atlético Lanús', 'Botafogo',\n",
       "       'Club América', 'Udinese', 'Real Valladolid CF', 'CD Leganés',\n",
       "       'Club Atlético Banfield', 'Celtic', 'Vitória Guimarães',\n",
       "       'FC København', 'UD Las Palmas', 'Deportivo de La Coruña',\n",
       "       'Universidad Católica', 'San Lorenzo de Almagro', 'Rayo Vallecano',\n",
       "       'Monterrey', 'Columbus Crew SC', 'MKE Ankaragücü',\n",
       "       'Guizhou Hengfeng FC', 'Swansea City', 'Tianjin TEDA FC',\n",
       "       'Chongqing Dangdai Lifan FC SWM Team', 'AEK Athens', 'Al Taawoun',\n",
       "       'Melbourne City FC', 'En Avant de Guingamp',\n",
       "       'Akhisar Belediyespor', 'Foggia', 'LOSC Lille', '1. FC Nürnberg',\n",
       "       'Clube Sport Marítimo', 'Real Sporting de Gijón', 'BB Erzurumspor',\n",
       "       'Shandong Luneng TaiShan FC', 'Club Atlético Colón', 'Bahia',\n",
       "       'Once Caldas', 'FC Groningen', 'Angers SCO', 'Paraná',\n",
       "       'Antalyaspor', 'Minnesota United FC', 'Club León', 'Empoli',\n",
       "       'VVV-Venlo', 'Leeds United', 'Viktoria Plzeň', 'Alanyaspor',\n",
       "       'Atlético Paranaense', 'Derby County', 'Kawasaki Frontale',\n",
       "       'Cardiff City', 'Aston Villa', 'Guadalajara', 'Dijon FCO',\n",
       "       'Santos Laguna', 'Málaga CF', 'Vitória', 'Çaykur Rizespor',\n",
       "       'U.N.A.M.', 'Nottingham Forest', 'Royal Antwerp FC',\n",
       "       'Club Tijuana', 'Sport Club do Recife', 'Real Salt Lake',\n",
       "       'AZ Alkmaar', 'SK Slavia Praha', 'Willem II', 'Middlesbrough',\n",
       "       'Dinamo Zagreb', 'Club Atlas', 'Granada CF', 'Sydney FC',\n",
       "       'Sporting Kansas City', 'SV Zulte-Waregem', 'Philadelphia Union',\n",
       "       'Real Oviedo', 'Pachuca', 'Boavista FC', 'Atiker Konyaspor',\n",
       "       'Kaizer Chiefs', 'GD Chaves', 'Palermo', 'Atlético Nacional',\n",
       "       'Puebla FC', 'Perth Glory', 'Panathinaikos FC', 'FC Sion',\n",
       "       'Vitória de Setúbal', 'New York Red Bulls', 'Al Shabab',\n",
       "       'Monarcas Morelia', 'Albacete BP', 'Rangers FC', 'Sparta Praha',\n",
       "       'Legia Warszawa', 'Urawa Red Diamonds', 'Rosario Central',\n",
       "       'Stade de Reims', 'ADO Den Haag', 'Chapecoense', 'FC Midtjylland',\n",
       "       'San Jose Earthquakes', 'Belgrano de Córdoba', 'Brescia',\n",
       "       'Kashima Antlers', 'CD Everton de Viña del Mar',\n",
       "       'Fortuna Düsseldorf', 'SD Huesca', 'Preston North End',\n",
       "       'Club Atlético Talleres', 'Benevento', 'Vitesse',\n",
       "       'Gimnasia y Esgrima La Plata', 'Houston Dynamo', 'Club Necaxa',\n",
       "       'Norwich City', 'Holstein Kiel', 'Ettifaq FC', 'Kayserispor',\n",
       "       '1. FC Heidenheim 1846', 'Brentford', 'Yeni Malatyaspor',\n",
       "       'Lobos BUAP', 'Bursaspor', 'Ceará Sporting Club',\n",
       "       'Sheffield United', 'FC Ingolstadt 04', 'Estudiantes de La Plata',\n",
       "       'AIK', 'Queens Park Rangers', 'Suwon Samsung Bluewings',\n",
       "       'Heart of Midlothian', 'Reading', 'FC Dallas', 'Heracles Almelo',\n",
       "       'Venezia FC', 'CD Lugo', 'Henan Jianye FC', 'Orlando City SC',\n",
       "       'CA Osasuna', 'NAC Breda', 'Livorno', 'Universidad de Chile',\n",
       "       'Brøndby IF', 'Aberdeen', 'Defensa y Justicia', 'Atlético Tucumán',\n",
       "       'Blackburn Rovers', 'SV Darmstadt 98', 'Moreirense FC',\n",
       "       'Sanfrecce Hiroshima', 'CD Numancia', 'KV Oostende', 'FC Utrecht',\n",
       "       'Vancouver Whitecaps FC', 'Odense Boldklub', 'SC Heerenveen',\n",
       "       'Racing Club de Lens', 'Independiente Santa Fe',\n",
       "       'Sporting de Charleroi', 'Millonarios FC', 'Sheffield Wednesday',\n",
       "       'Perugia', 'Daegu FC', 'Vélez Sarsfield',\n",
       "       'Grasshopper Club Zürich', 'Sivasspor', 'Nîmes Olympique',\n",
       "       'Rosenborg BK', 'SK Sturm Graz', 'FC Metz',\n",
       "       'CD Universidad de Concepción', 'Hellas Verona', 'Brisbane Roar',\n",
       "       'CD Feirense', 'Hull City', 'Waasland-Beveren', 'Neuchâtel Xamax',\n",
       "       'Real Zaragoza', 'CD Aves', 'Millwall', 'Unión de Santa Fe',\n",
       "       'KAS Eupen', 'Cádiz CF', 'FC Tokyo', 'CD Tenerife',\n",
       "       '1. FC Union Berlin', 'Al Fayha', 'AJ Auxerre',\n",
       "       'Patriotas Boyacá FC', 'Molde FK', 'Bristol City', 'CD Nacional',\n",
       "       'Sporting Lokeren', 'FC St. Pauli', 'Deportes Iquique',\n",
       "       'Al Qadisiyah', 'Atlético Bucaramanga', 'Club Atlético Tigre',\n",
       "       'FK Austria Wien', 'Patronato', 'Malmö FF', 'Kashiwa Reysol',\n",
       "       'US Cremonese', 'VfL Bochum 1848', 'SK Rapid Wien',\n",
       "       'KSV Cercle Brugge', 'Rionegro Águilas', 'Gimnàstic de Tarragona',\n",
       "       'Lecce', 'Santa Clara', 'BK Häcken', 'New England Revolution',\n",
       "       'Orlando Pirates', 'Atlético Huila', 'Western Sydney Wanderers',\n",
       "       'Kalmar FF', 'Independiente Medellín', 'Fortuna Sittard',\n",
       "       'Lech Poznań', 'Djurgårdens IF', 'CF Reus Deportiu', 'SK Brann',\n",
       "       'Ulsan Hyundai FC', 'Sint-Truidense VV', 'Carpi', 'Al Fateh',\n",
       "       'Royal Excel Mouscron', 'AC Ajaccio', 'PEC Zwolle', 'Sunderland',\n",
       "       'Club Atlético Aldosivi', 'US Salernitana 1919', 'FC Lorient',\n",
       "       'Argentinos Juniors', 'AD Alcorcón', 'Crotone', 'Excelsior',\n",
       "       'KV Kortrijk', 'IFK Norrköping', 'Adelaide United',\n",
       "       'FC St. Gallen', 'Tiburones Rojos de Veracruz', 'CD Palestino',\n",
       "       'Jeju United FC', 'Deportes Tolima', 'Jeonbuk Hyundai Motors',\n",
       "       'Birmingham City', 'América de Cali', 'La Equidad', 'Spezia',\n",
       "       'Aalborg BK', 'Le Havre AC', 'Górnik Zabrze',\n",
       "       'Central Coast Mariners', 'Wigan Athletic',\n",
       "       'Jagiellonia Białystok', 'Cittadella', 'Hibernian', 'FC Lugano',\n",
       "       'San Martín de San Juan', 'Strømsgodset IF', 'Júbilo Iwata',\n",
       "       \"Newell's Old Boys\", 'Al Faisaly', 'Colorado Rapids',\n",
       "       'IF Elfsborg', 'SV Sandhausen', 'Al Batin', 'Stade Brestois 29',\n",
       "       'UD Almería', 'Gyeongnam FC', 'Yokohama F. Marinos', 'Kilmarnock',\n",
       "       'Pescara', 'Newcastle Jets', 'Córdoba CF', 'RCD Mallorca',\n",
       "       'Hammarby IF', 'Cerezo Osaka', 'KFC Uerdingen 05',\n",
       "       'Shimizu S-Pulse', 'MSV Duisburg', 'Os Belenenses',\n",
       "       'DSC Arminia Bielefeld', 'Ipswich Town', 'FC Seoul',\n",
       "       'Lechia Gdańsk', 'Gamba Osaka', 'CF Rayo Majadahonda', 'LASK Linz',\n",
       "       'Bolton Wanderers', 'Al Raed', 'Extremadura UD', 'SC Paderborn 07',\n",
       "       'Wellington Phoenix', 'Unión Española', 'Alianza Petrolera',\n",
       "       'Cracovia', 'Gangwon FC', 'Elche CF', 'ESTAC Troyes', 'AS Béziers',\n",
       "       'La Berrichonne de Châteauroux', 'Clermont Foot 63',\n",
       "       '1. FC Magdeburg', 'Pohang Steelers', 'Örebro SK', 'Arka Gdynia',\n",
       "       'SG Dynamo Dresden', 'SpVgg Greuther Fürth', 'CD Huachipato',\n",
       "       'Wisła Kraków', 'Stabæk Fotball', 'Eintracht Braunschweig',\n",
       "       'Valenciennes FC', 'FC Thun', 'San Luis de Quillota',\n",
       "       ' SSV Jahn Regensburg', 'Cosenza', 'FC Nordsjælland',\n",
       "       'FC Erzgebirge Aue', 'Jeonnam Dragons', 'Wolfsberger AC',\n",
       "       'Chamois Niortais Football Club', 'Club Deportes Temuco',\n",
       "       'AS Nancy Lorraine', 'Red Star FC', 'Al Hazem', 'Pogoń Szczecin',\n",
       "       'Charlton Athletic', 'Grenoble Foot 38', 'FC Hansa Rostock',\n",
       "       'San Martin de Tucumán', 'Incheon United FC', 'Śląsk Wrocław',\n",
       "       'GFC Ajaccio', '1. FC Kaiserslautern', 'Deportivo Pasto',\n",
       "       'Lincoln City', 'Motherwell', 'Rotherham United', 'Burton Albion',\n",
       "       'Wisła Płock', 'FC Wacker Innsbruck', 'Peterborough United',\n",
       "       'Ascoli', 'FC Zürich', 'Fleetwood Town', 'Padova',\n",
       "       'FC Sochaux-Montbéliard', 'SV Wehen Wiesbaden', 'Unión La Calera',\n",
       "       'Scunthorpe United', \"CD O'Higgins\", 'CD Antofagasta',\n",
       "       'Plymouth Argyle', 'Aarhus GF', 'Lillestrøm SK', 'Karlsruher SC',\n",
       "       'GIF Sundsvall', 'FC Emmen', 'Barnsley', 'Audax Italiano',\n",
       "       'V-Varen Nagasaki', 'Paris FC', 'SpVgg Unterhaching', 'Hobro IK',\n",
       "       'De Graafschap', 'Hokkaido Consadole Sapporo', 'Tromsø IL',\n",
       "       'FC Luzern', 'FK Haugesund', 'Zagłębie Lubin', 'VfR Aalen',\n",
       "       'Dundalk', 'Oxford United', 'Piast Gliwice', 'Ohod Club',\n",
       "       'Östersunds FK', 'Vegalta Sendai', 'Crawley Town',\n",
       "       'FC Admira Wacker Mödling', 'Vålerenga Fotball', 'Dundee FC',\n",
       "       'Portsmouth', 'Envigado FC', 'Miedź Legnica', 'Odds BK',\n",
       "       'SC Fortuna Köln', 'US Orléans Loiret Football', 'Sarpsborg 08 FF',\n",
       "       'Jaguares de Córdoba', 'Bradford City', 'Accrington Stanley',\n",
       "       'St. Johnstone FC', 'Boyacá Chicó FC', 'Luton Town',\n",
       "       'SV Mattersburg', 'Kristiansund BK', 'Sangju Sangmu FC',\n",
       "       'Rochdale', 'Walsall', 'Korona Kielce', 'Shonan Bellmare',\n",
       "       'FC Würzburger Kickers', 'FSV Zwickau', 'St. Mirren', 'AC Horsens',\n",
       "       'Esbjerg fB', 'HJK Helsinki', 'Southend United', 'Bristol Rovers',\n",
       "       'Hamilton Academical FC', 'TSV 1860 München', 'Curicó Unido',\n",
       "       'SCR Altach', 'Ranheim Fotball', 'Stevenage',\n",
       "       'SG Sonnenhof Großaspach', 'Oldham Athletic', 'Milton Keynes Dons',\n",
       "       'FK Bodø/Glimt', 'SC Preußen Münster', 'Wycombe Wanderers',\n",
       "       'Vejle Boldklub', 'Bury', 'Randers FC', 'VfL Osnabrück',\n",
       "       'SønderjyskE', 'IFK Göteborg', 'Mansfield Town', 'Coventry City',\n",
       "       'Waterford FC', 'Shrewsbury', 'IK Start', 'Gillingham',\n",
       "       'FC Energie Cottbus', 'FC Carl Zeiss Jena', 'Hallescher FC',\n",
       "       'SV Meppen', 'AFC Wimbledon', 'Blackpool', 'Doncaster Rovers',\n",
       "       'Sandefjord Fotball', 'VfL Sportfreunde Lotte', 'Cheltenham Town',\n",
       "       'IK Sirius', 'Vendsyssel FF', 'Swindon Town', 'Notts County',\n",
       "       'SKN St. Pölten', 'Exeter City', 'Northampton Town',\n",
       "       'Shamrock Rovers', 'Colchester United', 'Livingston FC',\n",
       "       'TSV Hartberg', 'Tranmere Rovers', 'Cambridge United',\n",
       "       'Grimsby Town', 'Port Vale', 'Itagüí Leones FC',\n",
       "       'Forest Green Rovers', 'Dalkurd FF', 'Zagłębie Sosnowiec',\n",
       "       'Carlisle United', 'Trelleborgs FF', \"St. Patrick's Athletic\",\n",
       "       'Morecambe', 'Cork City', 'IF Brommapojkarna', 'Crewe Alexandra',\n",
       "       'Yeovil Town', 'Bohemian FC', 'Macclesfield Town',\n",
       "       'Newport County', 'Sligo Rovers', 'Derry City', 'Limerick FC',\n",
       "       'Bray Wanderers'], dtype=object)"
      ]
     },
     "execution_count": 18,
     "metadata": {},
     "output_type": "execute_result"
    }
   ],
   "source": [
    "cat_enc['Club'].unique()"
   ]
  },
  {
   "cell_type": "code",
   "execution_count": 19,
   "metadata": {},
   "outputs": [
    {
     "data": {
      "text/plain": [
       "array([  0,   1,   2,   3,   4,   5,   6,   7,   8,   9,  10,  11,  12,\n",
       "        13,  14,  15,  16,  17,  18,  19,  20,  21,  22,  23,  24,  25,\n",
       "        26,  27,  28,  29,  30,  31,  32,  33,  34,  35,  36,  37,  38,\n",
       "        39,  40,  41,  42,  43,  44,  45,  46,  47,  48,  49,  50,  51,\n",
       "        52,  53,  54,  55,  56,  57,  58,  59,  60,  61,  62,  63,  64,\n",
       "        65,  66,  67,  68,  69,  70,  71,  72,  73,  74,  75,  76,  77,\n",
       "        78,  79,  80,  81,  82,  83,  84,  85,  86,  87,  88,  89,  90,\n",
       "        91,  92,  93,  94,  95,  96,  97,  98,  99, 100, 101, 102, 103,\n",
       "       104, 105, 106, 107, 108, 109, 110, 111, 112, 113, 114, 115, 116,\n",
       "       117, 118, 119, 120, 121, 122, 123, 124, 125, 126, 127, 128, 129,\n",
       "       130, 131, 132, 133, 134, 135, 136, 137, 138, 139, 140, 141, 142,\n",
       "       143, 144, 145, 146, 147, 148, 149, 150, 151, 152, 153, 154, 155,\n",
       "       156, 157, 158, 159, 160, 161, 162, 163, 164, 165, 166, 167, 168,\n",
       "       169, 170, 171, 172, 173, 174, 175, 176, 177, 178, 179, 180, 181,\n",
       "       182, 183, 184, 185, 186, 187, 188, 189, 190, 191, 192, 193, 194,\n",
       "       195, 196, 197, 198, 199, 200, 201, 202, 203, 204, 205, 206, 207,\n",
       "       208, 209, 210, 211, 212, 213, 214, 215, 216, 217, 218, 219, 220,\n",
       "       221, 222, 223, 224, 225, 226, 227, 228, 229, 230, 231, 232, 233,\n",
       "       234, 235, 236, 237, 238, 239, 240, 241, 242, 243, 244, 245, 246,\n",
       "       247, 248, 249, 250, 251, 252, 253, 254, 255, 256, 257, 258, 259,\n",
       "       260, 261, 262, 263, 264, 265, 266, 267, 268, 269, 270, 271, 272,\n",
       "       273, 274, 275, 276, 277, 278, 279, 280, 281, 282, 283, 284, 285,\n",
       "       286, 287, 288, 289, 290, 291, 292, 293, 294, 295, 296, 297, 298,\n",
       "       299, 300, 301, 302, 303, 304, 305, 306, 307, 308, 309, 310, 311,\n",
       "       312, 313, 314, 315, 316, 317, 318, 319, 320, 321, 322, 323, 324,\n",
       "       325, 326, 327, 328, 329, 330, 331, 332, 333, 334, 335, 336, 337,\n",
       "       338, 339, 340, 341, 342, 343, 344, 345, 346, 347, 348, 349, 350,\n",
       "       351, 352, 353, 354, 355, 356, 357, 358, 359, 360, 361, 362, 363,\n",
       "       364, 365, 366, 367, 368, 369, 370, 371, 372, 373, 374, 375, 376,\n",
       "       377, 378, 379, 380, 381, 382, 383, 384, 385, 386, 387, 388, 389,\n",
       "       390, 391, 392, 393, 394, 395, 396, 397, 398, 399, 400, 401, 402,\n",
       "       403, 404, 405, 406, 407, 408, 409, 410, 411, 412, 413, 414, 415,\n",
       "       416, 417, 418, 419, 420, 421, 422, 423, 424, 425, 426, 427, 428,\n",
       "       429, 430, 431, 432, 433, 434, 435, 436, 437, 438, 439, 440, 441,\n",
       "       442, 443, 444, 445, 446, 447, 448, 449, 450, 451, 452, 453, 454,\n",
       "       455, 456, 457, 458, 459, 460, 461, 462, 463, 464, 465, 466, 467,\n",
       "       468, 469, 470, 471, 472, 473, 474, 475, 476, 477, 478, 479, 480,\n",
       "       481, 482, 483, 484, 485, 486, 487, 488, 489, 490, 491, 492, 493,\n",
       "       494, 495, 496, 497, 498, 499, 500, 501, 502, 503, 504, 505, 506,\n",
       "       507, 508, 509, 510, 511, 512, 513, 514, 515, 516, 517, 518, 519,\n",
       "       520, 521, 522, 523, 524, 525, 526, 527, 528, 529, 530, 531, 532,\n",
       "       533, 534, 535, 536, 537, 538, 539, 540, 541, 542, 543, 544, 545,\n",
       "       546, 547, 548, 549, 550, 551, 552, 553, 554, 555, 556, 557, 558,\n",
       "       559, 560, 561, 562, 563, 564, 565, 566, 567, 568, 569, 570, 571,\n",
       "       572, 573, 574, 575, 576, 577, 578, 579, 580, 581, 582, 583, 584,\n",
       "       585, 586, 587, 588, 589, 590, 591, 592, 593, 594, 595, 596, 597,\n",
       "       598, 599, 600, 601, 602, 603, 604, 605, 606, 607, 608, 609, 610,\n",
       "       611, 612, 613, 614, 615, 616, 617, 618, 619, 620, 621, 622, 623,\n",
       "       624, 625, 626, 627, 628, 629, 630, 631, 632, 633, 634, 635, 636,\n",
       "       637, 638, 639, 640, 641, 642, 643, 644, 645, 646, 647, 648, 649,\n",
       "       650])"
      ]
     },
     "execution_count": 19,
     "metadata": {},
     "output_type": "execute_result"
    }
   ],
   "source": [
    "np.unique(cat_enc_le)"
   ]
  },
  {
   "cell_type": "code",
   "execution_count": 20,
   "metadata": {},
   "outputs": [
    {
     "data": {
      "text/plain": [
       "array([' SSV Jahn Regensburg', '1. FC Heidenheim 1846',\n",
       "       '1. FC Kaiserslautern', '1. FC Köln'], dtype=object)"
      ]
     },
     "execution_count": 20,
     "metadata": {},
     "output_type": "execute_result"
    }
   ],
   "source": [
    "le.inverse_transform([0, 1, 2, 3])"
   ]
  },
  {
   "cell_type": "markdown",
   "metadata": {},
   "source": [
    "### Кодирование категорий наборами бинарных значений - one-hot encoding"
   ]
  },
  {
   "cell_type": "code",
   "execution_count": 21,
   "metadata": {},
   "outputs": [],
   "source": [
    "ohe = OneHotEncoder()\n",
    "cat_enc_ohe = ohe.fit_transform(cat_enc[['Club']])"
   ]
  },
  {
   "cell_type": "code",
   "execution_count": 22,
   "metadata": {},
   "outputs": [
    {
     "data": {
      "text/plain": [
       "(18207, 1)"
      ]
     },
     "execution_count": 22,
     "metadata": {},
     "output_type": "execute_result"
    }
   ],
   "source": [
    "cat_enc.shape"
   ]
  },
  {
   "cell_type": "code",
   "execution_count": 23,
   "metadata": {},
   "outputs": [
    {
     "data": {
      "text/plain": [
       "(18207, 651)"
      ]
     },
     "execution_count": 23,
     "metadata": {},
     "output_type": "execute_result"
    }
   ],
   "source": [
    "cat_enc_ohe.shape"
   ]
  },
  {
   "cell_type": "code",
   "execution_count": 24,
   "metadata": {},
   "outputs": [
    {
     "data": {
      "text/plain": [
       "<18207x651 sparse matrix of type '<class 'numpy.float64'>'\n",
       "\twith 18207 stored elements in Compressed Sparse Row format>"
      ]
     },
     "execution_count": 24,
     "metadata": {},
     "output_type": "execute_result"
    }
   ],
   "source": [
    "cat_enc_ohe"
   ]
  },
  {
   "cell_type": "code",
   "execution_count": 25,
   "metadata": {},
   "outputs": [
    {
     "data": {
      "text/plain": [
       "matrix([[0., 0., 0., ..., 0., 0., 0.],\n",
       "        [0., 0., 0., ..., 0., 0., 0.],\n",
       "        [0., 0., 0., ..., 0., 0., 0.],\n",
       "        ...,\n",
       "        [0., 0., 0., ..., 0., 0., 0.],\n",
       "        [0., 0., 0., ..., 0., 0., 0.],\n",
       "        [0., 0., 0., ..., 0., 0., 0.]])"
      ]
     },
     "execution_count": 25,
     "metadata": {},
     "output_type": "execute_result"
    }
   ],
   "source": [
    "cat_enc_ohe.todense()[0:10]"
   ]
  },
  {
   "cell_type": "code",
   "execution_count": 26,
   "metadata": {},
   "outputs": [
    {
     "data": {
      "text/html": [
       "<div>\n",
       "<style scoped>\n",
       "    .dataframe tbody tr th:only-of-type {\n",
       "        vertical-align: middle;\n",
       "    }\n",
       "\n",
       "    .dataframe tbody tr th {\n",
       "        vertical-align: top;\n",
       "    }\n",
       "\n",
       "    .dataframe thead th {\n",
       "        text-align: right;\n",
       "    }\n",
       "</style>\n",
       "<table border=\"1\" class=\"dataframe\">\n",
       "  <thead>\n",
       "    <tr style=\"text-align: right;\">\n",
       "      <th></th>\n",
       "      <th>Club</th>\n",
       "    </tr>\n",
       "  </thead>\n",
       "  <tbody>\n",
       "    <tr>\n",
       "      <th>0</th>\n",
       "      <td>FC Barcelona</td>\n",
       "    </tr>\n",
       "    <tr>\n",
       "      <th>1</th>\n",
       "      <td>Juventus</td>\n",
       "    </tr>\n",
       "    <tr>\n",
       "      <th>2</th>\n",
       "      <td>Paris Saint-Germain</td>\n",
       "    </tr>\n",
       "    <tr>\n",
       "      <th>3</th>\n",
       "      <td>Manchester United</td>\n",
       "    </tr>\n",
       "    <tr>\n",
       "      <th>4</th>\n",
       "      <td>Manchester City</td>\n",
       "    </tr>\n",
       "    <tr>\n",
       "      <th>5</th>\n",
       "      <td>Chelsea</td>\n",
       "    </tr>\n",
       "    <tr>\n",
       "      <th>6</th>\n",
       "      <td>Real Madrid</td>\n",
       "    </tr>\n",
       "    <tr>\n",
       "      <th>7</th>\n",
       "      <td>FC Barcelona</td>\n",
       "    </tr>\n",
       "    <tr>\n",
       "      <th>8</th>\n",
       "      <td>Real Madrid</td>\n",
       "    </tr>\n",
       "    <tr>\n",
       "      <th>9</th>\n",
       "      <td>Atlético Madrid</td>\n",
       "    </tr>\n",
       "  </tbody>\n",
       "</table>\n",
       "</div>"
      ],
      "text/plain": [
       "                  Club\n",
       "0         FC Barcelona\n",
       "1             Juventus\n",
       "2  Paris Saint-Germain\n",
       "3    Manchester United\n",
       "4      Manchester City\n",
       "5              Chelsea\n",
       "6          Real Madrid\n",
       "7         FC Barcelona\n",
       "8          Real Madrid\n",
       "9      Atlético Madrid"
      ]
     },
     "execution_count": 26,
     "metadata": {},
     "output_type": "execute_result"
    }
   ],
   "source": [
    "cat_enc.head(10)"
   ]
  },
  {
   "cell_type": "markdown",
   "metadata": {},
   "source": [
    "### Ящик с усами "
   ]
  },
  {
   "cell_type": "code",
   "execution_count": 27,
   "metadata": {},
   "outputs": [
    {
     "data": {
      "text/plain": [
       "<AxesSubplot:xlabel='Age'>"
      ]
     },
     "execution_count": 27,
     "metadata": {},
     "output_type": "execute_result"
    },
    {
     "data": {
      "image/png": "[encoded data removed]",
      "text/plain": [
       "<Figure size 432x288 with 1 Axes>"
      ]
     },
     "metadata": {
      "needs_background": "light"
     },
     "output_type": "display_data"
    }
   ],
   "source": [
    "sns.boxplot(data['Age'])"
   ]
  }
 ],
 "metadata": {
  "kernelspec": {
   "display_name": "Python 3",
   "language": "python",
   "name": "python3"
  },
  "language_info": {
   "codemirror_mode": {
    "name": "ipython",
    "version": 3
   },
   "file_extension": ".py",
   "mimetype": "text/x-python",
   "name": "python",
   "nbconvert_exporter": "python",
   "pygments_lexer": "ipython3",
   "version": "3.8.5"
  }
 },
 "nbformat": 4,
 "nbformat_minor": 4
}
